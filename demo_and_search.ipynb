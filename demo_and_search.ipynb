{
  "metadata": {
    "kernelspec": {
      "display_name": "Python 3",
      "name": "python3"
    },
    "language_info": {
      "name": "python",
      "version": "3.10.12",
      "mimetype": "text/x-python",
      "codemirror_mode": {
        "name": "ipython",
        "version": 3
      },
      "pygments_lexer": "ipython3",
      "nbconvert_exporter": "python",
      "file_extension": ".py"
    },
    "kaggle": {
      "accelerator": "none",
      "dataSources": [
        {
          "sourceId": 1462296,
          "sourceType": "datasetVersion",
          "datasetId": 857191
        }
      ],
      "dockerImageVersionId": 30587,
      "isInternetEnabled": true,
      "language": "python",
      "sourceType": "notebook",
      "isGpuEnabled": false
    },
    "colab": {
      "provenance": [],
      "gpuType": "T4"
    },
    "accelerator": "GPU"
  },
  "nbformat_minor": 0,
  "nbformat": 4,
  "cells": [
    {
      "cell_type": "code",
      "source": [
        "!pip install git+https://github.com/openai/CLIP.git"
      ],
      "metadata": {
        "_uuid": "8f2839f25d086af736a60e9eeb907d3b93b6e0e5",
        "_cell_guid": "b1076dfc-b9ad-4769-8c92-a6c4dae69d19",
        "execution": {
          "iopub.status.busy": "2023-12-04T23:49:38.441010Z",
          "iopub.execute_input": "2023-12-04T23:49:38.441373Z",
          "iopub.status.idle": "2023-12-04T23:49:55.123296Z",
          "shell.execute_reply.started": "2023-12-04T23:49:38.441343Z",
          "shell.execute_reply": "2023-12-04T23:49:55.122022Z"
        },
        "trusted": true,
        "colab": {
          "base_uri": "https://localhost:8080/"
        },
        "id": "z7IjBnfeQjHo",
        "outputId": "330fc64e-00c5-493e-bd64-577c052b47de"
      },
      "execution_count": 1,
      "outputs": [
        {
          "output_type": "stream",
          "name": "stdout",
          "text": [
            "Collecting git+https://github.com/openai/CLIP.git\n",
            "  Cloning https://github.com/openai/CLIP.git to /tmp/pip-req-build-xckw8dgn\n",
            "  Running command git clone --filter=blob:none --quiet https://github.com/openai/CLIP.git /tmp/pip-req-build-xckw8dgn\n",
            "  Resolved https://github.com/openai/CLIP.git to commit a1d071733d7111c9c014f024669f959182114e33\n",
            "  Preparing metadata (setup.py) ... \u001b[?25l\u001b[?25hdone\n",
            "Requirement already satisfied: ftfy in /usr/local/lib/python3.10/dist-packages (from clip==1.0) (6.1.3)\n",
            "Requirement already satisfied: regex in /usr/local/lib/python3.10/dist-packages (from clip==1.0) (2023.6.3)\n",
            "Requirement already satisfied: tqdm in /usr/local/lib/python3.10/dist-packages (from clip==1.0) (4.66.1)\n",
            "Requirement already satisfied: torch in /usr/local/lib/python3.10/dist-packages (from clip==1.0) (2.1.0+cu118)\n",
            "Requirement already satisfied: torchvision in /usr/local/lib/python3.10/dist-packages (from clip==1.0) (0.16.0+cu118)\n",
            "Requirement already satisfied: wcwidth<0.3.0,>=0.2.12 in /usr/local/lib/python3.10/dist-packages (from ftfy->clip==1.0) (0.2.12)\n",
            "Requirement already satisfied: filelock in /usr/local/lib/python3.10/dist-packages (from torch->clip==1.0) (3.13.1)\n",
            "Requirement already satisfied: typing-extensions in /usr/local/lib/python3.10/dist-packages (from torch->clip==1.0) (4.8.0)\n",
            "Requirement already satisfied: sympy in /usr/local/lib/python3.10/dist-packages (from torch->clip==1.0) (1.12)\n",
            "Requirement already satisfied: networkx in /usr/local/lib/python3.10/dist-packages (from torch->clip==1.0) (3.2.1)\n",
            "Requirement already satisfied: jinja2 in /usr/local/lib/python3.10/dist-packages (from torch->clip==1.0) (3.1.2)\n",
            "Requirement already satisfied: fsspec in /usr/local/lib/python3.10/dist-packages (from torch->clip==1.0) (2023.6.0)\n",
            "Requirement already satisfied: triton==2.1.0 in /usr/local/lib/python3.10/dist-packages (from torch->clip==1.0) (2.1.0)\n",
            "Requirement already satisfied: numpy in /usr/local/lib/python3.10/dist-packages (from torchvision->clip==1.0) (1.23.5)\n",
            "Requirement already satisfied: requests in /usr/local/lib/python3.10/dist-packages (from torchvision->clip==1.0) (2.31.0)\n",
            "Requirement already satisfied: pillow!=8.3.*,>=5.3.0 in /usr/local/lib/python3.10/dist-packages (from torchvision->clip==1.0) (9.4.0)\n",
            "Requirement already satisfied: MarkupSafe>=2.0 in /usr/local/lib/python3.10/dist-packages (from jinja2->torch->clip==1.0) (2.1.3)\n",
            "Requirement already satisfied: charset-normalizer<4,>=2 in /usr/local/lib/python3.10/dist-packages (from requests->torchvision->clip==1.0) (3.3.2)\n",
            "Requirement already satisfied: idna<4,>=2.5 in /usr/local/lib/python3.10/dist-packages (from requests->torchvision->clip==1.0) (3.6)\n",
            "Requirement already satisfied: urllib3<3,>=1.21.1 in /usr/local/lib/python3.10/dist-packages (from requests->torchvision->clip==1.0) (2.0.7)\n",
            "Requirement already satisfied: certifi>=2017.4.17 in /usr/local/lib/python3.10/dist-packages (from requests->torchvision->clip==1.0) (2023.11.17)\n",
            "Requirement already satisfied: mpmath>=0.19 in /usr/local/lib/python3.10/dist-packages (from sympy->torch->clip==1.0) (1.3.0)\n"
          ]
        }
      ]
    },
    {
      "cell_type": "code",
      "source": [
        "!pip install gradio"
      ],
      "metadata": {
        "execution": {
          "iopub.status.busy": "2023-12-04T23:49:55.125808Z",
          "iopub.execute_input": "2023-12-04T23:49:55.126310Z",
          "iopub.status.idle": "2023-12-04T23:50:25.405717Z",
          "shell.execute_reply.started": "2023-12-04T23:49:55.126267Z",
          "shell.execute_reply": "2023-12-04T23:50:25.404445Z"
        },
        "trusted": true,
        "colab": {
          "base_uri": "https://localhost:8080/"
        },
        "id": "ofX5G8R0QjHr",
        "outputId": "fbf3ba3a-56ee-4426-8280-6b7ff48abc39"
      },
      "execution_count": 2,
      "outputs": [
        {
          "output_type": "stream",
          "name": "stdout",
          "text": [
            "Requirement already satisfied: gradio in /usr/local/lib/python3.10/dist-packages (4.8.0)\n",
            "Requirement already satisfied: aiofiles<24.0,>=22.0 in /usr/local/lib/python3.10/dist-packages (from gradio) (23.2.1)\n",
            "Requirement already satisfied: altair<6.0,>=4.2.0 in /usr/local/lib/python3.10/dist-packages (from gradio) (4.2.2)\n",
            "Requirement already satisfied: fastapi in /usr/local/lib/python3.10/dist-packages (from gradio) (0.104.1)\n",
            "Requirement already satisfied: ffmpy in /usr/local/lib/python3.10/dist-packages (from gradio) (0.3.1)\n",
            "Requirement already satisfied: gradio-client==0.7.1 in /usr/local/lib/python3.10/dist-packages (from gradio) (0.7.1)\n",
            "Requirement already satisfied: httpx in /usr/local/lib/python3.10/dist-packages (from gradio) (0.25.2)\n",
            "Requirement already satisfied: huggingface-hub>=0.14.0 in /usr/local/lib/python3.10/dist-packages (from gradio) (0.19.4)\n",
            "Requirement already satisfied: importlib-resources<7.0,>=1.3 in /usr/local/lib/python3.10/dist-packages (from gradio) (6.1.1)\n",
            "Requirement already satisfied: jinja2<4.0 in /usr/local/lib/python3.10/dist-packages (from gradio) (3.1.2)\n",
            "Requirement already satisfied: markupsafe~=2.0 in /usr/local/lib/python3.10/dist-packages (from gradio) (2.1.3)\n",
            "Requirement already satisfied: matplotlib~=3.0 in /usr/local/lib/python3.10/dist-packages (from gradio) (3.7.1)\n",
            "Requirement already satisfied: numpy~=1.0 in /usr/local/lib/python3.10/dist-packages (from gradio) (1.23.5)\n",
            "Requirement already satisfied: orjson~=3.0 in /usr/local/lib/python3.10/dist-packages (from gradio) (3.9.10)\n",
            "Requirement already satisfied: packaging in /usr/local/lib/python3.10/dist-packages (from gradio) (23.2)\n",
            "Requirement already satisfied: pandas<3.0,>=1.0 in /usr/local/lib/python3.10/dist-packages (from gradio) (1.5.3)\n",
            "Requirement already satisfied: pillow<11.0,>=8.0 in /usr/local/lib/python3.10/dist-packages (from gradio) (9.4.0)\n",
            "Requirement already satisfied: pydantic>=2.0 in /usr/local/lib/python3.10/dist-packages (from gradio) (2.5.2)\n",
            "Requirement already satisfied: pydub in /usr/local/lib/python3.10/dist-packages (from gradio) (0.25.1)\n",
            "Requirement already satisfied: python-multipart in /usr/local/lib/python3.10/dist-packages (from gradio) (0.0.6)\n",
            "Requirement already satisfied: pyyaml<7.0,>=5.0 in /usr/local/lib/python3.10/dist-packages (from gradio) (6.0.1)\n",
            "Requirement already satisfied: requests~=2.0 in /usr/local/lib/python3.10/dist-packages (from gradio) (2.31.0)\n",
            "Requirement already satisfied: semantic-version~=2.0 in /usr/local/lib/python3.10/dist-packages (from gradio) (2.10.0)\n",
            "Requirement already satisfied: tomlkit==0.12.0 in /usr/local/lib/python3.10/dist-packages (from gradio) (0.12.0)\n",
            "Requirement already satisfied: typer[all]<1.0,>=0.9 in /usr/local/lib/python3.10/dist-packages (from gradio) (0.9.0)\n",
            "Requirement already satisfied: typing-extensions~=4.0 in /usr/local/lib/python3.10/dist-packages (from gradio) (4.8.0)\n",
            "Requirement already satisfied: uvicorn>=0.14.0 in /usr/local/lib/python3.10/dist-packages (from gradio) (0.24.0.post1)\n",
            "Requirement already satisfied: fsspec in /usr/local/lib/python3.10/dist-packages (from gradio-client==0.7.1->gradio) (2023.6.0)\n",
            "Requirement already satisfied: websockets<12.0,>=10.0 in /usr/local/lib/python3.10/dist-packages (from gradio-client==0.7.1->gradio) (11.0.3)\n",
            "Requirement already satisfied: entrypoints in /usr/local/lib/python3.10/dist-packages (from altair<6.0,>=4.2.0->gradio) (0.4)\n",
            "Requirement already satisfied: jsonschema>=3.0 in /usr/local/lib/python3.10/dist-packages (from altair<6.0,>=4.2.0->gradio) (4.19.2)\n",
            "Requirement already satisfied: toolz in /usr/local/lib/python3.10/dist-packages (from altair<6.0,>=4.2.0->gradio) (0.12.0)\n",
            "Requirement already satisfied: filelock in /usr/local/lib/python3.10/dist-packages (from huggingface-hub>=0.14.0->gradio) (3.13.1)\n",
            "Requirement already satisfied: tqdm>=4.42.1 in /usr/local/lib/python3.10/dist-packages (from huggingface-hub>=0.14.0->gradio) (4.66.1)\n",
            "Requirement already satisfied: contourpy>=1.0.1 in /usr/local/lib/python3.10/dist-packages (from matplotlib~=3.0->gradio) (1.2.0)\n",
            "Requirement already satisfied: cycler>=0.10 in /usr/local/lib/python3.10/dist-packages (from matplotlib~=3.0->gradio) (0.12.1)\n",
            "Requirement already satisfied: fonttools>=4.22.0 in /usr/local/lib/python3.10/dist-packages (from matplotlib~=3.0->gradio) (4.45.1)\n",
            "Requirement already satisfied: kiwisolver>=1.0.1 in /usr/local/lib/python3.10/dist-packages (from matplotlib~=3.0->gradio) (1.4.5)\n",
            "Requirement already satisfied: pyparsing>=2.3.1 in /usr/local/lib/python3.10/dist-packages (from matplotlib~=3.0->gradio) (3.1.1)\n",
            "Requirement already satisfied: python-dateutil>=2.7 in /usr/local/lib/python3.10/dist-packages (from matplotlib~=3.0->gradio) (2.8.2)\n",
            "Requirement already satisfied: pytz>=2020.1 in /usr/local/lib/python3.10/dist-packages (from pandas<3.0,>=1.0->gradio) (2023.3.post1)\n",
            "Requirement already satisfied: annotated-types>=0.4.0 in /usr/local/lib/python3.10/dist-packages (from pydantic>=2.0->gradio) (0.6.0)\n",
            "Requirement already satisfied: pydantic-core==2.14.5 in /usr/local/lib/python3.10/dist-packages (from pydantic>=2.0->gradio) (2.14.5)\n",
            "Requirement already satisfied: charset-normalizer<4,>=2 in /usr/local/lib/python3.10/dist-packages (from requests~=2.0->gradio) (3.3.2)\n",
            "Requirement already satisfied: idna<4,>=2.5 in /usr/local/lib/python3.10/dist-packages (from requests~=2.0->gradio) (3.6)\n",
            "Requirement already satisfied: urllib3<3,>=1.21.1 in /usr/local/lib/python3.10/dist-packages (from requests~=2.0->gradio) (2.0.7)\n",
            "Requirement already satisfied: certifi>=2017.4.17 in /usr/local/lib/python3.10/dist-packages (from requests~=2.0->gradio) (2023.11.17)\n",
            "Requirement already satisfied: click<9.0.0,>=7.1.1 in /usr/local/lib/python3.10/dist-packages (from typer[all]<1.0,>=0.9->gradio) (8.1.7)\n",
            "Requirement already satisfied: colorama<0.5.0,>=0.4.3 in /usr/local/lib/python3.10/dist-packages (from typer[all]<1.0,>=0.9->gradio) (0.4.6)\n",
            "Requirement already satisfied: shellingham<2.0.0,>=1.3.0 in /usr/local/lib/python3.10/dist-packages (from typer[all]<1.0,>=0.9->gradio) (1.5.4)\n",
            "Requirement already satisfied: rich<14.0.0,>=10.11.0 in /usr/local/lib/python3.10/dist-packages (from typer[all]<1.0,>=0.9->gradio) (13.7.0)\n",
            "Requirement already satisfied: h11>=0.8 in /usr/local/lib/python3.10/dist-packages (from uvicorn>=0.14.0->gradio) (0.14.0)\n",
            "Requirement already satisfied: anyio<4.0.0,>=3.7.1 in /usr/local/lib/python3.10/dist-packages (from fastapi->gradio) (3.7.1)\n",
            "Requirement already satisfied: starlette<0.28.0,>=0.27.0 in /usr/local/lib/python3.10/dist-packages (from fastapi->gradio) (0.27.0)\n",
            "Requirement already satisfied: httpcore==1.* in /usr/local/lib/python3.10/dist-packages (from httpx->gradio) (1.0.2)\n",
            "Requirement already satisfied: sniffio in /usr/local/lib/python3.10/dist-packages (from httpx->gradio) (1.3.0)\n",
            "Requirement already satisfied: exceptiongroup in /usr/local/lib/python3.10/dist-packages (from anyio<4.0.0,>=3.7.1->fastapi->gradio) (1.2.0)\n",
            "Requirement already satisfied: attrs>=22.2.0 in /usr/local/lib/python3.10/dist-packages (from jsonschema>=3.0->altair<6.0,>=4.2.0->gradio) (23.1.0)\n",
            "Requirement already satisfied: jsonschema-specifications>=2023.03.6 in /usr/local/lib/python3.10/dist-packages (from jsonschema>=3.0->altair<6.0,>=4.2.0->gradio) (2023.11.2)\n",
            "Requirement already satisfied: referencing>=0.28.4 in /usr/local/lib/python3.10/dist-packages (from jsonschema>=3.0->altair<6.0,>=4.2.0->gradio) (0.31.1)\n",
            "Requirement already satisfied: rpds-py>=0.7.1 in /usr/local/lib/python3.10/dist-packages (from jsonschema>=3.0->altair<6.0,>=4.2.0->gradio) (0.13.2)\n",
            "Requirement already satisfied: six>=1.5 in /usr/local/lib/python3.10/dist-packages (from python-dateutil>=2.7->matplotlib~=3.0->gradio) (1.16.0)\n",
            "Requirement already satisfied: markdown-it-py>=2.2.0 in /usr/local/lib/python3.10/dist-packages (from rich<14.0.0,>=10.11.0->typer[all]<1.0,>=0.9->gradio) (3.0.0)\n",
            "Requirement already satisfied: pygments<3.0.0,>=2.13.0 in /usr/local/lib/python3.10/dist-packages (from rich<14.0.0,>=10.11.0->typer[all]<1.0,>=0.9->gradio) (2.16.1)\n",
            "Requirement already satisfied: mdurl~=0.1 in /usr/local/lib/python3.10/dist-packages (from markdown-it-py>=2.2.0->rich<14.0.0,>=10.11.0->typer[all]<1.0,>=0.9->gradio) (0.1.2)\n"
          ]
        }
      ]
    },
    {
      "cell_type": "code",
      "source": [
        "import torch\n",
        "import clip\n",
        "from PIL import Image\n",
        "import os\n",
        "import itertools\n",
        "import torch.nn as nn\n",
        "import matplotlib.pyplot as plt\n",
        "import cv2\n",
        "\n",
        "device = \"cuda\" if torch.cuda.is_available() else \"cpu\"\n",
        "print(\"Using: \", device)\n",
        "\n",
        "model, preprocess = clip.load(\"ViT-B/32\", device=device)\n",
        "\n",
        "#dataset\n",
        "dataset_folder = '/content/data'\n",
        "\n",
        "images = []\n",
        "count = 0\n",
        "for root, dirs, files in os.walk(dataset_folder):\n",
        "    for file in files:\n",
        "        if file.endswith(('jpg','jpeg')):\n",
        "            images.append(  root  + '/'+ file)\n",
        "\n"
      ],
      "metadata": {
        "execution": {
          "iopub.status.busy": "2023-12-04T23:50:25.406854Z",
          "iopub.execute_input": "2023-12-04T23:50:25.407191Z",
          "iopub.status.idle": "2023-12-04T23:50:39.405599Z",
          "shell.execute_reply.started": "2023-12-04T23:50:25.407162Z",
          "shell.execute_reply": "2023-12-04T23:50:39.404670Z"
        },
        "trusted": true,
        "colab": {
          "base_uri": "https://localhost:8080/"
        },
        "id": "gcY-511KQjHr",
        "outputId": "3a95d4f3-bf0e-42d0-bbe1-d86ec34facfe"
      },
      "execution_count": 3,
      "outputs": [
        {
          "output_type": "stream",
          "name": "stdout",
          "text": [
            "Using:  cuda\n"
          ]
        }
      ]
    },
    {
      "cell_type": "code",
      "source": [
        "from google.colab import drive\n",
        "drive.mount('/content/drive')"
      ],
      "metadata": {
        "colab": {
          "base_uri": "https://localhost:8080/"
        },
        "id": "1iGqX7AgA4MP",
        "outputId": "702388e6-75c0-4e44-8064-8d6335e618e5"
      },
      "execution_count": 4,
      "outputs": [
        {
          "output_type": "stream",
          "name": "stdout",
          "text": [
            "Drive already mounted at /content/drive; to attempt to forcibly remount, call drive.mount(\"/content/drive\", force_remount=True).\n"
          ]
        }
      ]
    },
    {
      "cell_type": "code",
      "source": [
        "def imagetoImage(input_image, useCosineSimilarity):\n",
        "    #input image embedding\n",
        "    input_image = Image.open(input_image)\n",
        "    preprocess_input_image = preprocess(input_image).unsqueeze(0).to(device)\n",
        "    input_image_embedding = model.encode_image(preprocess_input_image)\n",
        "\n",
        "    result = {}\n",
        "    if useCosineSimilarity:\n",
        "        cosine_similarity = torch.nn.CosineSimilarity(dim=0)\n",
        "\n",
        "        for img in images:\n",
        "            with torch.no_grad():\n",
        "                image_preprocess = preprocess(Image.open(img)).unsqueeze(0).to(device)\n",
        "                image_features = model.encode_image(image_preprocess)\n",
        "                similarity_score = cosine_similarity(image_features[0],input_image_embedding[0]).item()\n",
        "                similarity_score = (similarity_score+1)/2 # makes the similarity score between 0 and 1\n",
        "                result[img]=similarity_score\n",
        "                print(similarity_score)\n",
        "\n",
        "    else:\n",
        "        euclidean_distance = torch.nn.PairwiseDistance()\n",
        "\n",
        "        for img in images:\n",
        "            with torch.no_grad():\n",
        "                image_preprocess = preprocess(Image.open(img)).unsqueeze(0).to(device)\n",
        "                image_features = model.encode_image(image_preprocess)\n",
        "                distance = euclidean_distance(image_features[0], input_image_embedding[0]).item()\n",
        "                similarity_score = 1 / (1 + distance)\n",
        "                result[img] = similarity_score\n",
        "\n",
        "\n",
        "\n",
        "    results = dict(sorted(result.items(), key = lambda x: x[1], reverse=True))\n",
        "    print(results)\n",
        "    top_3 = dict(itertools.islice(results.items(), 3))\n",
        "    resulting_image = []\n",
        "    print(top_3)\n",
        "\n",
        "    for key in top_3:\n",
        "        resulting_image.append(key)\n",
        "\n",
        "    return input_image, resulting_image[0], resulting_image[1], resulting_image[2]"
      ],
      "metadata": {
        "trusted": true,
        "id": "9h0nTfVYQjHr"
      },
      "execution_count": 18,
      "outputs": []
    },
    {
      "cell_type": "code",
      "source": [
        "\n",
        "def image_to_image(image, value):\n",
        "    flag = False\n",
        "    if value[0] != \"Cosine Similarity\":\n",
        "      flag = True\n",
        "    return imagetoImage(image, flag)"
      ],
      "metadata": {
        "trusted": true,
        "id": "y9ozWxR4QjHs"
      },
      "execution_count": 6,
      "outputs": []
    },
    {
      "cell_type": "code",
      "source": [
        "from google.colab import drive\n",
        "drive.mount('/content/drive')"
      ],
      "metadata": {
        "colab": {
          "base_uri": "https://localhost:8080/"
        },
        "id": "3fOcGLoiHKQR",
        "outputId": "c0c08ebb-7b3e-4397-f999-6dd20b7e8fa0"
      },
      "execution_count": 7,
      "outputs": [
        {
          "output_type": "stream",
          "name": "stdout",
          "text": [
            "Drive already mounted at /content/drive; to attempt to forcibly remount, call drive.mount(\"/content/drive\", force_remount=True).\n"
          ]
        }
      ]
    },
    {
      "cell_type": "code",
      "source": [
        "import torch\n",
        "import clip\n",
        "from PIL import Image\n",
        "import os\n",
        "import itertools\n",
        "import torch.nn as nn\n",
        "import matplotlib.pyplot as plt\n",
        "import cv2\n",
        "\n",
        "device = \"cuda\" if torch.cuda.is_available() else \"cpu\"\n",
        "print(\"Using: \", device)\n",
        "\n",
        "model, preprocess = clip.load(\"ViT-B/32\", device=device)"
      ],
      "metadata": {
        "id": "0JtvVAsV_yQc",
        "colab": {
          "base_uri": "https://localhost:8080/"
        },
        "outputId": "642c6c79-b192-4be6-eca9-c804cc55da56"
      },
      "execution_count": 8,
      "outputs": [
        {
          "output_type": "stream",
          "name": "stdout",
          "text": [
            "Using:  cuda\n"
          ]
        }
      ]
    },
    {
      "cell_type": "code",
      "source": [
        "def buildCocoData():\n",
        "  images = []\n",
        "  embeddings = []\n",
        "  dataset_folder = '/content/drive/MyDrive/coco_val2017/val2017'\n",
        "  count = 0\n",
        "  for root, dirs, files in os.walk(dataset_folder):\n",
        "    for file in files:\n",
        "        if file.endswith(('jpg','jpeg')):\n",
        "            x = root  + '/'+ file\n",
        "            images.append(x)\n",
        "            tensor = model.encode_image(preprocess(Image.open(x)).unsqueeze(0).to(device))\n",
        "            embeddings.append(tensor)\n",
        "            count = count + 1\n",
        "            if count == 300:\n",
        "              break\n",
        "            print(count)\n",
        "\n",
        "  return images, embeddings"
      ],
      "metadata": {
        "id": "EGCb0Wjx_f-l"
      },
      "execution_count": 9,
      "outputs": []
    },
    {
      "cell_type": "code",
      "source": [
        "images, embeddings = buildCocoData()"
      ],
      "metadata": {
        "id": "z4rM1xft_no4",
        "colab": {
          "base_uri": "https://localhost:8080/"
        },
        "outputId": "e290137f-7277-4a2a-db9a-8b0928aa5e56"
      },
      "execution_count": 10,
      "outputs": [
        {
          "output_type": "stream",
          "name": "stdout",
          "text": [
            "1\n",
            "2\n",
            "3\n",
            "4\n",
            "5\n",
            "6\n",
            "7\n",
            "8\n",
            "9\n",
            "10\n",
            "11\n",
            "12\n",
            "13\n",
            "14\n",
            "15\n",
            "16\n",
            "17\n",
            "18\n",
            "19\n",
            "20\n",
            "21\n",
            "22\n",
            "23\n",
            "24\n",
            "25\n",
            "26\n",
            "27\n",
            "28\n",
            "29\n",
            "30\n",
            "31\n",
            "32\n",
            "33\n",
            "34\n",
            "35\n",
            "36\n",
            "37\n",
            "38\n",
            "39\n",
            "40\n",
            "41\n",
            "42\n",
            "43\n",
            "44\n",
            "45\n",
            "46\n",
            "47\n",
            "48\n",
            "49\n",
            "50\n",
            "51\n",
            "52\n",
            "53\n",
            "54\n",
            "55\n",
            "56\n",
            "57\n",
            "58\n",
            "59\n",
            "60\n",
            "61\n",
            "62\n",
            "63\n",
            "64\n",
            "65\n",
            "66\n",
            "67\n",
            "68\n",
            "69\n",
            "70\n",
            "71\n",
            "72\n",
            "73\n",
            "74\n",
            "75\n",
            "76\n",
            "77\n",
            "78\n",
            "79\n",
            "80\n",
            "81\n",
            "82\n",
            "83\n",
            "84\n",
            "85\n",
            "86\n",
            "87\n",
            "88\n",
            "89\n",
            "90\n",
            "91\n",
            "92\n",
            "93\n",
            "94\n",
            "95\n",
            "96\n",
            "97\n",
            "98\n",
            "99\n",
            "100\n",
            "101\n",
            "102\n",
            "103\n",
            "104\n",
            "105\n",
            "106\n",
            "107\n",
            "108\n",
            "109\n",
            "110\n",
            "111\n",
            "112\n",
            "113\n",
            "114\n",
            "115\n",
            "116\n",
            "117\n",
            "118\n",
            "119\n",
            "120\n",
            "121\n",
            "122\n",
            "123\n",
            "124\n",
            "125\n",
            "126\n",
            "127\n",
            "128\n",
            "129\n",
            "130\n",
            "131\n",
            "132\n",
            "133\n",
            "134\n",
            "135\n",
            "136\n",
            "137\n",
            "138\n",
            "139\n",
            "140\n",
            "141\n",
            "142\n",
            "143\n",
            "144\n",
            "145\n",
            "146\n",
            "147\n",
            "148\n",
            "149\n",
            "150\n",
            "151\n",
            "152\n",
            "153\n",
            "154\n",
            "155\n",
            "156\n",
            "157\n",
            "158\n",
            "159\n",
            "160\n",
            "161\n",
            "162\n",
            "163\n",
            "164\n",
            "165\n",
            "166\n",
            "167\n",
            "168\n",
            "169\n",
            "170\n",
            "171\n",
            "172\n",
            "173\n",
            "174\n",
            "175\n",
            "176\n",
            "177\n",
            "178\n",
            "179\n",
            "180\n",
            "181\n",
            "182\n",
            "183\n",
            "184\n",
            "185\n",
            "186\n",
            "187\n",
            "188\n",
            "189\n",
            "190\n",
            "191\n",
            "192\n",
            "193\n",
            "194\n",
            "195\n",
            "196\n",
            "197\n",
            "198\n",
            "199\n",
            "200\n",
            "201\n",
            "202\n",
            "203\n",
            "204\n",
            "205\n",
            "206\n",
            "207\n",
            "208\n",
            "209\n",
            "210\n",
            "211\n",
            "212\n",
            "213\n",
            "214\n",
            "215\n",
            "216\n",
            "217\n",
            "218\n",
            "219\n",
            "220\n",
            "221\n",
            "222\n",
            "223\n",
            "224\n",
            "225\n",
            "226\n",
            "227\n",
            "228\n",
            "229\n",
            "230\n",
            "231\n",
            "232\n",
            "233\n",
            "234\n",
            "235\n",
            "236\n",
            "237\n",
            "238\n",
            "239\n",
            "240\n",
            "241\n",
            "242\n",
            "243\n",
            "244\n",
            "245\n",
            "246\n",
            "247\n",
            "248\n",
            "249\n",
            "250\n",
            "251\n",
            "252\n",
            "253\n",
            "254\n",
            "255\n",
            "256\n",
            "257\n",
            "258\n",
            "259\n",
            "260\n",
            "261\n",
            "262\n",
            "263\n",
            "264\n",
            "265\n",
            "266\n",
            "267\n",
            "268\n",
            "269\n",
            "270\n",
            "271\n",
            "272\n",
            "273\n",
            "274\n",
            "275\n",
            "276\n",
            "277\n",
            "278\n",
            "279\n",
            "280\n",
            "281\n",
            "282\n",
            "283\n",
            "284\n",
            "285\n",
            "286\n",
            "287\n",
            "288\n",
            "289\n",
            "290\n",
            "291\n",
            "292\n",
            "293\n",
            "294\n",
            "295\n",
            "296\n",
            "297\n",
            "298\n",
            "299\n"
          ]
        }
      ]
    },
    {
      "cell_type": "code",
      "source": [
        "def textToImage(input_text, useCosineSimilarity):\n",
        "  text_token = clip.tokenize(input_text).to(device)\n",
        "  text_embedding = model.encode_text(text_token).to(device)\n",
        "  result = []\n",
        "  if useCosineSimilarity:\n",
        "        cosine_similarity = torch.nn.CosineSimilarity(dim=0)\n",
        "\n",
        "        for index, emb in enumerate(embeddings):\n",
        "            with torch.no_grad():\n",
        "                similarity_score = cosine_similarity(emb[0], text_embedding[0]).item()\n",
        "                similarity_score = (similarity_score+1)/2 # makes the similarity score between 0 and 1\n",
        "                result.append((index, images[index], similarity_score))\n",
        "\n",
        "  else:\n",
        "        euclidean_distance = torch.nn.PairwiseDistance()\n",
        "\n",
        "        for index, emb in enumerate(embeddings):\n",
        "            with torch.no_grad():\n",
        "                similarity_score = euclidean_distance(emb[0], text_embedding[0]).item()\n",
        "                similarity_score = 1/(similarity_score+1) # makes the similarity score between 0 and 1\n",
        "                result.append((index, images[index], similarity_score))\n",
        "\n",
        "  results = sorted(result, key=lambda tup: tup[2])\n",
        "  top_3 = results[len(results) - 3 :]\n",
        "  print(results)\n",
        "  return top_3[2][1], top_3[1][1], top_3[0][1]"
      ],
      "metadata": {
        "id": "dRincUv_AFUc"
      },
      "execution_count": 11,
      "outputs": []
    },
    {
      "cell_type": "code",
      "source": [
        "def text_to_image(image, value):\n",
        "    flag = True\n",
        "    if value[0] != \"Cosine Similarity\":\n",
        "      flag = False\n",
        "    return textToImage(image, flag)"
      ],
      "metadata": {
        "id": "96CyIywWTFIT"
      },
      "execution_count": 12,
      "outputs": []
    },
    {
      "cell_type": "code",
      "source": [
        "textToImage(\"A computer sitting on a desk\", True)"
      ],
      "metadata": {
        "colab": {
          "base_uri": "https://localhost:8080/"
        },
        "id": "fOeLpiKvF9yB",
        "outputId": "a3c78b4a-6ef0-4035-9daa-89b3f767a8c5"
      },
      "execution_count": 13,
      "outputs": [
        {
          "output_type": "stream",
          "name": "stdout",
          "text": [
            "[(30, '/content/drive/MyDrive/coco_val2017/val2017/000000269316.jpg', 0.5285186767578125), (154, '/content/drive/MyDrive/coco_val2017/val2017/000000247917.jpg', 0.530181884765625), (244, '/content/drive/MyDrive/coco_val2017/val2017/000000183648.jpg', 0.540496826171875), (209, '/content/drive/MyDrive/coco_val2017/val2017/000000288685.jpg', 0.541015625), (96, '/content/drive/MyDrive/coco_val2017/val2017/000000414170.jpg', 0.54107666015625), (89, '/content/drive/MyDrive/coco_val2017/val2017/000000478721.jpg', 0.545166015625), (27, '/content/drive/MyDrive/coco_val2017/val2017/000000285894.jpg', 0.545196533203125), (261, '/content/drive/MyDrive/coco_val2017/val2017/000000058705.jpg', 0.545501708984375), (49, '/content/drive/MyDrive/coco_val2017/val2017/000000064718.jpg', 0.54583740234375), (285, '/content/drive/MyDrive/coco_val2017/val2017/000000556158.jpg', 0.545989990234375), (103, '/content/drive/MyDrive/coco_val2017/val2017/000000527695.jpg', 0.54620361328125), (67, '/content/drive/MyDrive/coco_val2017/val2017/000000319184.jpg', 0.546295166015625), (54, '/content/drive/MyDrive/coco_val2017/val2017/000000471450.jpg', 0.547882080078125), (91, '/content/drive/MyDrive/coco_val2017/val2017/000000573258.jpg', 0.5479736328125), (237, '/content/drive/MyDrive/coco_val2017/val2017/000000125405.jpg', 0.548248291015625), (110, '/content/drive/MyDrive/coco_val2017/val2017/000000343524.jpg', 0.548309326171875), (134, '/content/drive/MyDrive/coco_val2017/val2017/000000516601.jpg', 0.548828125), (187, '/content/drive/MyDrive/coco_val2017/val2017/000000005001.jpg', 0.549072265625), (25, '/content/drive/MyDrive/coco_val2017/val2017/000000504589.jpg', 0.549224853515625), (280, '/content/drive/MyDrive/coco_val2017/val2017/000000433374.jpg', 0.54998779296875), (286, '/content/drive/MyDrive/coco_val2017/val2017/000000503855.jpg', 0.55047607421875), (234, '/content/drive/MyDrive/coco_val2017/val2017/000000041990.jpg', 0.551055908203125), (148, '/content/drive/MyDrive/coco_val2017/val2017/000000312489.jpg', 0.551422119140625), (179, '/content/drive/MyDrive/coco_val2017/val2017/000000089880.jpg', 0.551544189453125), (218, '/content/drive/MyDrive/coco_val2017/val2017/000000143556.jpg', 0.551727294921875), (111, '/content/drive/MyDrive/coco_val2017/val2017/000000185250.jpg', 0.5528564453125), (84, '/content/drive/MyDrive/coco_val2017/val2017/000000323496.jpg', 0.552947998046875), (45, '/content/drive/MyDrive/coco_val2017/val2017/000000057672.jpg', 0.553070068359375), (296, '/content/drive/MyDrive/coco_val2017/val2017/000000186042.jpg', 0.553436279296875), (185, '/content/drive/MyDrive/coco_val2017/val2017/000000288882.jpg', 0.5538330078125), (239, '/content/drive/MyDrive/coco_val2017/val2017/000000267191.jpg', 0.5540771484375), (268, '/content/drive/MyDrive/coco_val2017/val2017/000000077460.jpg', 0.554351806640625), (253, '/content/drive/MyDrive/coco_val2017/val2017/000000452084.jpg', 0.554412841796875), (294, '/content/drive/MyDrive/coco_val2017/val2017/000000025986.jpg', 0.55450439453125), (95, '/content/drive/MyDrive/coco_val2017/val2017/000000450075.jpg', 0.5546875), (277, '/content/drive/MyDrive/coco_val2017/val2017/000000044195.jpg', 0.554779052734375), (0, '/content/drive/MyDrive/coco_val2017/val2017/000000127270.jpg', 0.55487060546875), (220, '/content/drive/MyDrive/coco_val2017/val2017/000000410612.jpg', 0.554901123046875), (7, '/content/drive/MyDrive/coco_val2017/val2017/000000375430.jpg', 0.555328369140625), (38, '/content/drive/MyDrive/coco_val2017/val2017/000000068933.jpg', 0.555328369140625), (171, '/content/drive/MyDrive/coco_val2017/val2017/000000530146.jpg', 0.5555419921875), (85, '/content/drive/MyDrive/coco_val2017/val2017/000000488710.jpg', 0.555633544921875), (132, '/content/drive/MyDrive/coco_val2017/val2017/000000194216.jpg', 0.55572509765625), (219, '/content/drive/MyDrive/coco_val2017/val2017/000000520659.jpg', 0.555755615234375), (168, '/content/drive/MyDrive/coco_val2017/val2017/000000039405.jpg', 0.55584716796875), (26, '/content/drive/MyDrive/coco_val2017/val2017/000000185473.jpg', 0.556060791015625), (298, '/content/drive/MyDrive/coco_val2017/val2017/000000269121.jpg', 0.556182861328125), (274, '/content/drive/MyDrive/coco_val2017/val2017/000000576052.jpg', 0.556396484375), (34, '/content/drive/MyDrive/coco_val2017/val2017/000000573626.jpg', 0.556610107421875), (36, '/content/drive/MyDrive/coco_val2017/val2017/000000396205.jpg', 0.556610107421875), (136, '/content/drive/MyDrive/coco_val2017/val2017/000000278973.jpg', 0.55670166015625), (114, '/content/drive/MyDrive/coco_val2017/val2017/000000079837.jpg', 0.5567626953125), (142, '/content/drive/MyDrive/coco_val2017/val2017/000000247806.jpg', 0.55682373046875), (116, '/content/drive/MyDrive/coco_val2017/val2017/000000289415.jpg', 0.55712890625), (269, '/content/drive/MyDrive/coco_val2017/val2017/000000276285.jpg', 0.55743408203125), (170, '/content/drive/MyDrive/coco_val2017/val2017/000000579635.jpg', 0.557708740234375), (201, '/content/drive/MyDrive/coco_val2017/val2017/000000401862.jpg', 0.5577392578125), (66, '/content/drive/MyDrive/coco_val2017/val2017/000000417911.jpg', 0.55810546875), (216, '/content/drive/MyDrive/coco_val2017/val2017/000000551794.jpg', 0.558135986328125), (270, '/content/drive/MyDrive/coco_val2017/val2017/000000450399.jpg', 0.558319091796875), (205, '/content/drive/MyDrive/coco_val2017/val2017/000000459467.jpg', 0.558685302734375), (291, '/content/drive/MyDrive/coco_val2017/val2017/000000014380.jpg', 0.558807373046875), (94, '/content/drive/MyDrive/coco_val2017/val2017/000000541055.jpg', 0.5589599609375), (153, '/content/drive/MyDrive/coco_val2017/val2017/000000008844.jpg', 0.558990478515625), (258, '/content/drive/MyDrive/coco_val2017/val2017/000000160012.jpg', 0.55902099609375), (43, '/content/drive/MyDrive/coco_val2017/val2017/000000121591.jpg', 0.55908203125), (207, '/content/drive/MyDrive/coco_val2017/val2017/000000223130.jpg', 0.55914306640625), (140, '/content/drive/MyDrive/coco_val2017/val2017/000000356428.jpg', 0.559478759765625), (233, '/content/drive/MyDrive/coco_val2017/val2017/000000507015.jpg', 0.559906005859375), (70, '/content/drive/MyDrive/coco_val2017/val2017/000000331604.jpg', 0.560150146484375), (151, '/content/drive/MyDrive/coco_val2017/val2017/000000474881.jpg', 0.5601806640625), (182, '/content/drive/MyDrive/coco_val2017/val2017/000000559707.jpg', 0.5604248046875), (229, '/content/drive/MyDrive/coco_val2017/val2017/000000579307.jpg', 0.560638427734375), (61, '/content/drive/MyDrive/coco_val2017/val2017/000000255664.jpg', 0.560882568359375), (188, '/content/drive/MyDrive/coco_val2017/val2017/000000031217.jpg', 0.56097412109375), (113, '/content/drive/MyDrive/coco_val2017/val2017/000000573391.jpg', 0.561065673828125), (293, '/content/drive/MyDrive/coco_val2017/val2017/000000032901.jpg', 0.561065673828125), (281, '/content/drive/MyDrive/coco_val2017/val2017/000000378284.jpg', 0.56121826171875), (97, '/content/drive/MyDrive/coco_val2017/val2017/000000448810.jpg', 0.56134033203125), (63, '/content/drive/MyDrive/coco_val2017/val2017/000000210520.jpg', 0.561370849609375), (267, '/content/drive/MyDrive/coco_val2017/val2017/000000457848.jpg', 0.5615234375), (51, '/content/drive/MyDrive/coco_val2017/val2017/000000418281.jpg', 0.56158447265625), (195, '/content/drive/MyDrive/coco_val2017/val2017/000000334521.jpg', 0.5618896484375), (164, '/content/drive/MyDrive/coco_val2017/val2017/000000552371.jpg', 0.561920166015625), (292, '/content/drive/MyDrive/coco_val2017/val2017/000000524108.jpg', 0.56231689453125), (226, '/content/drive/MyDrive/coco_val2017/val2017/000000468332.jpg', 0.5623779296875), (39, '/content/drive/MyDrive/coco_val2017/val2017/000000396863.jpg', 0.5625), (203, '/content/drive/MyDrive/coco_val2017/val2017/000000568213.jpg', 0.56256103515625), (248, '/content/drive/MyDrive/coco_val2017/val2017/000000359540.jpg', 0.562744140625), (109, '/content/drive/MyDrive/coco_val2017/val2017/000000485071.jpg', 0.56304931640625), (81, '/content/drive/MyDrive/coco_val2017/val2017/000000236914.jpg', 0.5631103515625), (192, '/content/drive/MyDrive/coco_val2017/val2017/000000005477.jpg', 0.56317138671875), (194, '/content/drive/MyDrive/coco_val2017/val2017/000000153299.jpg', 0.56317138671875), (23, '/content/drive/MyDrive/coco_val2017/val2017/000000577862.jpg', 0.56329345703125), (177, '/content/drive/MyDrive/coco_val2017/val2017/000000315001.jpg', 0.56329345703125), (42, '/content/drive/MyDrive/coco_val2017/val2017/000000566042.jpg', 0.56353759765625), (74, '/content/drive/MyDrive/coco_val2017/val2017/000000076625.jpg', 0.56353759765625), (86, '/content/drive/MyDrive/coco_val2017/val2017/000000352900.jpg', 0.56353759765625), (31, '/content/drive/MyDrive/coco_val2017/val2017/000000432898.jpg', 0.563720703125), (135, '/content/drive/MyDrive/coco_val2017/val2017/000000095069.jpg', 0.5638427734375), (5, '/content/drive/MyDrive/coco_val2017/val2017/000000246963.jpg', 0.56390380859375), (272, '/content/drive/MyDrive/coco_val2017/val2017/000000437205.jpg', 0.56402587890625), (172, '/content/drive/MyDrive/coco_val2017/val2017/000000185409.jpg', 0.5640869140625), (265, '/content/drive/MyDrive/coco_val2017/val2017/000000344611.jpg', 0.56414794921875), (210, '/content/drive/MyDrive/coco_val2017/val2017/000000217948.jpg', 0.56439208984375), (282, '/content/drive/MyDrive/coco_val2017/val2017/000000020247.jpg', 0.56439208984375), (295, '/content/drive/MyDrive/coco_val2017/val2017/000000047571.jpg', 0.56439208984375), (108, '/content/drive/MyDrive/coco_val2017/val2017/000000407002.jpg', 0.56451416015625), (242, '/content/drive/MyDrive/coco_val2017/val2017/000000553094.jpg', 0.56475830078125), (145, '/content/drive/MyDrive/coco_val2017/val2017/000000062353.jpg', 0.56494140625), (128, '/content/drive/MyDrive/coco_val2017/val2017/000000369541.jpg', 0.56512451171875), (9, '/content/drive/MyDrive/coco_val2017/val2017/000000312586.jpg', 0.56536865234375), (83, '/content/drive/MyDrive/coco_val2017/val2017/000000439994.jpg', 0.56549072265625), (184, '/content/drive/MyDrive/coco_val2017/val2017/000000431896.jpg', 0.5655517578125), (17, '/content/drive/MyDrive/coco_val2017/val2017/000000394559.jpg', 0.56573486328125), (80, '/content/drive/MyDrive/coco_val2017/val2017/000000475387.jpg', 0.56597900390625), (266, '/content/drive/MyDrive/coco_val2017/val2017/000000136715.jpg', 0.5660400390625), (56, '/content/drive/MyDrive/coco_val2017/val2017/000000280710.jpg', 0.56622314453125), (264, '/content/drive/MyDrive/coco_val2017/val2017/000000216739.jpg', 0.56634521484375), (275, '/content/drive/MyDrive/coco_val2017/val2017/000000009448.jpg', 0.56634521484375), (99, '/content/drive/MyDrive/coco_val2017/val2017/000000548524.jpg', 0.5665283203125), (112, '/content/drive/MyDrive/coco_val2017/val2017/000000458045.jpg', 0.56707763671875), (100, '/content/drive/MyDrive/coco_val2017/val2017/000000210032.jpg', 0.5672607421875), (158, '/content/drive/MyDrive/coco_val2017/val2017/000000436738.jpg', 0.5673828125), (252, '/content/drive/MyDrive/coco_val2017/val2017/000000210915.jpg', 0.5673828125), (48, '/content/drive/MyDrive/coco_val2017/val2017/000000250205.jpg', 0.56744384765625), (200, '/content/drive/MyDrive/coco_val2017/val2017/000000015278.jpg', 0.5675048828125), (202, '/content/drive/MyDrive/coco_val2017/val2017/000000293245.jpg', 0.5677490234375), (283, '/content/drive/MyDrive/coco_val2017/val2017/000000033114.jpg', 0.5682373046875), (278, '/content/drive/MyDrive/coco_val2017/val2017/000000190853.jpg', 0.568603515625), (287, '/content/drive/MyDrive/coco_val2017/val2017/000000353518.jpg', 0.568603515625), (71, '/content/drive/MyDrive/coco_val2017/val2017/000000172648.jpg', 0.5692138671875), (225, '/content/drive/MyDrive/coco_val2017/val2017/000000130579.jpg', 0.5693359375), (159, '/content/drive/MyDrive/coco_val2017/val2017/000000170116.jpg', 0.56939697265625), (117, '/content/drive/MyDrive/coco_val2017/val2017/000000070158.jpg', 0.56976318359375), (166, '/content/drive/MyDrive/coco_val2017/val2017/000000122927.jpg', 0.56976318359375), (240, '/content/drive/MyDrive/coco_val2017/val2017/000000421455.jpg', 0.5699462890625), (163, '/content/drive/MyDrive/coco_val2017/val2017/000000541634.jpg', 0.57025146484375), (90, '/content/drive/MyDrive/coco_val2017/val2017/000000069356.jpg', 0.5706787109375), (29, '/content/drive/MyDrive/coco_val2017/val2017/000000424521.jpg', 0.57080078125), (101, '/content/drive/MyDrive/coco_val2017/val2017/000000152870.jpg', 0.57080078125), (6, '/content/drive/MyDrive/coco_val2017/val2017/000000561256.jpg', 0.5711669921875), (147, '/content/drive/MyDrive/coco_val2017/val2017/000000313182.jpg', 0.57122802734375), (297, '/content/drive/MyDrive/coco_val2017/val2017/000000574297.jpg', 0.57122802734375), (46, '/content/drive/MyDrive/coco_val2017/val2017/000000423506.jpg', 0.5712890625), (227, '/content/drive/MyDrive/coco_val2017/val2017/000000500478.jpg', 0.57171630859375), (21, '/content/drive/MyDrive/coco_val2017/val2017/000000180487.jpg', 0.57177734375), (32, '/content/drive/MyDrive/coco_val2017/val2017/000000284698.jpg', 0.57196044921875), (214, '/content/drive/MyDrive/coco_val2017/val2017/000000346707.jpg', 0.572021484375), (167, '/content/drive/MyDrive/coco_val2017/val2017/000000307074.jpg', 0.57208251953125), (246, '/content/drive/MyDrive/coco_val2017/val2017/000000357748.jpg', 0.57220458984375), (204, '/content/drive/MyDrive/coco_val2017/val2017/000000210299.jpg', 0.5723876953125), (249, '/content/drive/MyDrive/coco_val2017/val2017/000000338532.jpg', 0.57275390625), (58, '/content/drive/MyDrive/coco_val2017/val2017/000000060770.jpg', 0.57318115234375), (41, '/content/drive/MyDrive/coco_val2017/val2017/000000175443.jpg', 0.5732421875), (52, '/content/drive/MyDrive/coco_val2017/val2017/000000312263.jpg', 0.5732421875), (4, '/content/drive/MyDrive/coco_val2017/val2017/000000462756.jpg', 0.57330322265625), (125, '/content/drive/MyDrive/coco_val2017/val2017/000000532129.jpg', 0.5736083984375), (221, '/content/drive/MyDrive/coco_val2017/val2017/000000100624.jpg', 0.57415771484375), (107, '/content/drive/MyDrive/coco_val2017/val2017/000000173033.jpg', 0.57427978515625), (98, '/content/drive/MyDrive/coco_val2017/val2017/000000550939.jpg', 0.5743408203125), (19, '/content/drive/MyDrive/coco_val2017/val2017/000000364322.jpg', 0.57440185546875), (119, '/content/drive/MyDrive/coco_val2017/val2017/000000252216.jpg', 0.57476806640625), (138, '/content/drive/MyDrive/coco_val2017/val2017/000000361180.jpg', 0.57476806640625), (176, '/content/drive/MyDrive/coco_val2017/val2017/000000187745.jpg', 0.5750732421875), (276, '/content/drive/MyDrive/coco_val2017/val2017/000000095843.jpg', 0.57513427734375), (121, '/content/drive/MyDrive/coco_val2017/val2017/000000015517.jpg', 0.5751953125), (16, '/content/drive/MyDrive/coco_val2017/val2017/000000122969.jpg', 0.57525634765625), (196, '/content/drive/MyDrive/coco_val2017/val2017/000000117744.jpg', 0.57537841796875), (215, '/content/drive/MyDrive/coco_val2017/val2017/000000117645.jpg', 0.575439453125), (12, '/content/drive/MyDrive/coco_val2017/val2017/000000304180.jpg', 0.57550048828125), (230, '/content/drive/MyDrive/coco_val2017/val2017/000000397303.jpg', 0.57550048828125), (87, '/content/drive/MyDrive/coco_val2017/val2017/000000025181.jpg', 0.575927734375), (197, '/content/drive/MyDrive/coco_val2017/val2017/000000205834.jpg', 0.57647705078125), (78, '/content/drive/MyDrive/coco_val2017/val2017/000000519522.jpg', 0.5767822265625), (143, '/content/drive/MyDrive/coco_val2017/val2017/000000405195.jpg', 0.57696533203125), (155, '/content/drive/MyDrive/coco_val2017/val2017/000000189226.jpg', 0.57708740234375), (247, '/content/drive/MyDrive/coco_val2017/val2017/000000006614.jpg', 0.5771484375), (53, '/content/drive/MyDrive/coco_val2017/val2017/000000479912.jpg', 0.5772705078125), (77, '/content/drive/MyDrive/coco_val2017/val2017/000000197528.jpg', 0.5772705078125), (299, '/content/drive/MyDrive/coco_val2017/val2017/000000085329.jpg', 0.5772705078125), (279, '/content/drive/MyDrive/coco_val2017/val2017/000000416330.jpg', 0.57733154296875), (127, '/content/drive/MyDrive/coco_val2017/val2017/000000023023.jpg', 0.5777587890625), (146, '/content/drive/MyDrive/coco_val2017/val2017/000000276284.jpg', 0.578125), (2, '/content/drive/MyDrive/coco_val2017/val2017/000000138639.jpg', 0.578369140625), (65, '/content/drive/MyDrive/coco_val2017/val2017/000000259597.jpg', 0.5784912109375), (178, '/content/drive/MyDrive/coco_val2017/val2017/000000352760.jpg', 0.57867431640625), (193, '/content/drive/MyDrive/coco_val2017/val2017/000000131431.jpg', 0.57916259765625), (290, '/content/drive/MyDrive/coco_val2017/val2017/000000565045.jpg', 0.5792236328125), (76, '/content/drive/MyDrive/coco_val2017/val2017/000000078748.jpg', 0.57952880859375), (255, '/content/drive/MyDrive/coco_val2017/val2017/000000273711.jpg', 0.5797119140625), (40, '/content/drive/MyDrive/coco_val2017/val2017/000000179653.jpg', 0.5799560546875), (75, '/content/drive/MyDrive/coco_val2017/val2017/000000278848.jpg', 0.5799560546875), (130, '/content/drive/MyDrive/coco_val2017/val2017/000000304396.jpg', 0.5802001953125), (79, '/content/drive/MyDrive/coco_val2017/val2017/000000407518.jpg', 0.580322265625), (60, '/content/drive/MyDrive/coco_val2017/val2017/000000494869.jpg', 0.58038330078125), (156, '/content/drive/MyDrive/coco_val2017/val2017/000000133778.jpg', 0.58038330078125), (50, '/content/drive/MyDrive/coco_val2017/val2017/000000474167.jpg', 0.58056640625), (124, '/content/drive/MyDrive/coco_val2017/val2017/000000416170.jpg', 0.58062744140625), (150, '/content/drive/MyDrive/coco_val2017/val2017/000000172856.jpg', 0.58074951171875), (62, '/content/drive/MyDrive/coco_val2017/val2017/000000050811.jpg', 0.580810546875), (241, '/content/drive/MyDrive/coco_val2017/val2017/000000003553.jpg', 0.58099365234375), (144, '/content/drive/MyDrive/coco_val2017/val2017/000000299355.jpg', 0.58111572265625), (59, '/content/drive/MyDrive/coco_val2017/val2017/000000015956.jpg', 0.5811767578125), (28, '/content/drive/MyDrive/coco_val2017/val2017/000000254814.jpg', 0.581298828125), (57, '/content/drive/MyDrive/coco_val2017/val2017/000000169169.jpg', 0.581298828125), (217, '/content/drive/MyDrive/coco_val2017/val2017/000000435205.jpg', 0.58148193359375), (122, '/content/drive/MyDrive/coco_val2017/val2017/000000533536.jpg', 0.58160400390625), (18, '/content/drive/MyDrive/coco_val2017/val2017/000000252559.jpg', 0.5816650390625), (118, '/content/drive/MyDrive/coco_val2017/val2017/000000108495.jpg', 0.5816650390625), (256, '/content/drive/MyDrive/coco_val2017/val2017/000000153782.jpg', 0.581787109375), (69, '/content/drive/MyDrive/coco_val2017/val2017/000000021839.jpg', 0.58184814453125), (115, '/content/drive/MyDrive/coco_val2017/val2017/000000229358.jpg', 0.5821533203125), (8, '/content/drive/MyDrive/coco_val2017/val2017/000000155341.jpg', 0.5826416015625), (15, '/content/drive/MyDrive/coco_val2017/val2017/000000265108.jpg', 0.58282470703125), (93, '/content/drive/MyDrive/coco_val2017/val2017/000000135410.jpg', 0.5831298828125), (289, '/content/drive/MyDrive/coco_val2017/val2017/000000245102.jpg', 0.5831298828125), (1, '/content/drive/MyDrive/coco_val2017/val2017/000000144932.jpg', 0.58349609375), (137, '/content/drive/MyDrive/coco_val2017/val2017/000000157418.jpg', 0.5836181640625), (181, '/content/drive/MyDrive/coco_val2017/val2017/000000362682.jpg', 0.5836181640625), (189, '/content/drive/MyDrive/coco_val2017/val2017/000000430073.jpg', 0.5841064453125), (257, '/content/drive/MyDrive/coco_val2017/val2017/000000455448.jpg', 0.58416748046875), (3, '/content/drive/MyDrive/coco_val2017/val2017/000000157807.jpg', 0.584716796875), (47, '/content/drive/MyDrive/coco_val2017/val2017/000000368940.jpg', 0.5853271484375), (222, '/content/drive/MyDrive/coco_val2017/val2017/000000419098.jpg', 0.58544921875), (149, '/content/drive/MyDrive/coco_val2017/val2017/000000343496.jpg', 0.58563232421875), (223, '/content/drive/MyDrive/coco_val2017/val2017/000000310862.jpg', 0.5859375), (263, '/content/drive/MyDrive/coco_val2017/val2017/000000485802.jpg', 0.58636474609375), (133, '/content/drive/MyDrive/coco_val2017/val2017/000000287347.jpg', 0.58648681640625), (174, '/content/drive/MyDrive/coco_val2017/val2017/000000045472.jpg', 0.58673095703125), (44, '/content/drive/MyDrive/coco_val2017/val2017/000000295797.jpg', 0.5869140625), (157, '/content/drive/MyDrive/coco_val2017/val2017/000000410712.jpg', 0.58709716796875), (213, '/content/drive/MyDrive/coco_val2017/val2017/000000107554.jpg', 0.5875244140625), (33, '/content/drive/MyDrive/coco_val2017/val2017/000000398810.jpg', 0.58770751953125), (20, '/content/drive/MyDrive/coco_val2017/val2017/000000167353.jpg', 0.58831787109375), (104, '/content/drive/MyDrive/coco_val2017/val2017/000000105923.jpg', 0.58837890625), (10, '/content/drive/MyDrive/coco_val2017/val2017/000000085195.jpg', 0.58843994140625), (11, '/content/drive/MyDrive/coco_val2017/val2017/000000200421.jpg', 0.58868408203125), (68, '/content/drive/MyDrive/coco_val2017/val2017/000000482719.jpg', 0.5889892578125), (262, '/content/drive/MyDrive/coco_val2017/val2017/000000357060.jpg', 0.58929443359375), (102, '/content/drive/MyDrive/coco_val2017/val2017/000000215072.jpg', 0.5897216796875), (208, '/content/drive/MyDrive/coco_val2017/val2017/000000547336.jpg', 0.5897216796875), (183, '/content/drive/MyDrive/coco_val2017/val2017/000000430875.jpg', 0.58990478515625), (141, '/content/drive/MyDrive/coco_val2017/val2017/000000007991.jpg', 0.59014892578125), (250, '/content/drive/MyDrive/coco_val2017/val2017/000000462904.jpg', 0.5902099609375), (22, '/content/drive/MyDrive/coco_val2017/val2017/000000387387.jpg', 0.5906982421875), (175, '/content/drive/MyDrive/coco_val2017/val2017/000000110282.jpg', 0.5906982421875), (284, '/content/drive/MyDrive/coco_val2017/val2017/000000085665.jpg', 0.5909423828125), (211, '/content/drive/MyDrive/coco_val2017/val2017/000000073533.jpg', 0.59130859375), (82, '/content/drive/MyDrive/coco_val2017/val2017/000000078266.jpg', 0.591552734375), (152, '/content/drive/MyDrive/coco_val2017/val2017/000000354829.jpg', 0.591552734375), (259, '/content/drive/MyDrive/coco_val2017/val2017/000000507473.jpg', 0.59210205078125), (191, '/content/drive/MyDrive/coco_val2017/val2017/000000537270.jpg', 0.592529296875), (14, '/content/drive/MyDrive/coco_val2017/val2017/000000471087.jpg', 0.593017578125), (162, '/content/drive/MyDrive/coco_val2017/val2017/000000038829.jpg', 0.593017578125), (273, '/content/drive/MyDrive/coco_val2017/val2017/000000136355.jpg', 0.59344482421875), (254, '/content/drive/MyDrive/coco_val2017/val2017/000000519569.jpg', 0.5943603515625), (92, '/content/drive/MyDrive/coco_val2017/val2017/000000025394.jpg', 0.59442138671875), (186, '/content/drive/MyDrive/coco_val2017/val2017/000000098716.jpg', 0.5948486328125), (169, '/content/drive/MyDrive/coco_val2017/val2017/000000226984.jpg', 0.594970703125), (131, '/content/drive/MyDrive/coco_val2017/val2017/000000084650.jpg', 0.59552001953125), (231, '/content/drive/MyDrive/coco_val2017/val2017/000000351810.jpg', 0.5963134765625), (271, '/content/drive/MyDrive/coco_val2017/val2017/000000047769.jpg', 0.59637451171875), (37, '/content/drive/MyDrive/coco_val2017/val2017/000000069224.jpg', 0.5965576171875), (245, '/content/drive/MyDrive/coco_val2017/val2017/000000468954.jpg', 0.59661865234375), (288, '/content/drive/MyDrive/coco_val2017/val2017/000000184762.jpg', 0.59661865234375), (198, '/content/drive/MyDrive/coco_val2017/val2017/000000430286.jpg', 0.5966796875), (123, '/content/drive/MyDrive/coco_val2017/val2017/000000502732.jpg', 0.59716796875), (106, '/content/drive/MyDrive/coco_val2017/val2017/000000407614.jpg', 0.5972900390625), (160, '/content/drive/MyDrive/coco_val2017/val2017/000000532761.jpg', 0.59759521484375), (173, '/content/drive/MyDrive/coco_val2017/val2017/000000147518.jpg', 0.59765625), (180, '/content/drive/MyDrive/coco_val2017/val2017/000000485424.jpg', 0.5977783203125), (139, '/content/drive/MyDrive/coco_val2017/val2017/000000461573.jpg', 0.59814453125), (72, '/content/drive/MyDrive/coco_val2017/val2017/000000458790.jpg', 0.59832763671875), (55, '/content/drive/MyDrive/coco_val2017/val2017/000000029397.jpg', 0.59930419921875), (199, '/content/drive/MyDrive/coco_val2017/val2017/000000052413.jpg', 0.60107421875), (235, '/content/drive/MyDrive/coco_val2017/val2017/000000068078.jpg', 0.60162353515625), (165, '/content/drive/MyDrive/coco_val2017/val2017/000000099182.jpg', 0.6016845703125), (206, '/content/drive/MyDrive/coco_val2017/val2017/000000154718.jpg', 0.6019287109375), (126, '/content/drive/MyDrive/coco_val2017/val2017/000000352584.jpg', 0.603515625), (120, '/content/drive/MyDrive/coco_val2017/val2017/000000051008.jpg', 0.60467529296875), (243, '/content/drive/MyDrive/coco_val2017/val2017/000000325527.jpg', 0.60650634765625), (64, '/content/drive/MyDrive/coco_val2017/val2017/000000536343.jpg', 0.60693359375), (228, '/content/drive/MyDrive/coco_val2017/val2017/000000166166.jpg', 0.6072998046875), (251, '/content/drive/MyDrive/coco_val2017/val2017/000000437514.jpg', 0.6080322265625), (190, '/content/drive/MyDrive/coco_val2017/val2017/000000517069.jpg', 0.61126708984375), (232, '/content/drive/MyDrive/coco_val2017/val2017/000000222735.jpg', 0.612060546875), (35, '/content/drive/MyDrive/coco_val2017/val2017/000000140203.jpg', 0.6134033203125), (73, '/content/drive/MyDrive/coco_val2017/val2017/000000243199.jpg', 0.6163330078125), (260, '/content/drive/MyDrive/coco_val2017/val2017/000000051610.jpg', 0.6177978515625), (88, '/content/drive/MyDrive/coco_val2017/val2017/000000282296.jpg', 0.61907958984375), (161, '/content/drive/MyDrive/coco_val2017/val2017/000000413247.jpg', 0.622802734375), (224, '/content/drive/MyDrive/coco_val2017/val2017/000000119233.jpg', 0.626220703125), (129, '/content/drive/MyDrive/coco_val2017/val2017/000000012667.jpg', 0.629150390625), (236, '/content/drive/MyDrive/coco_val2017/val2017/000000366225.jpg', 0.636962890625), (238, '/content/drive/MyDrive/coco_val2017/val2017/000000016439.jpg', 0.639404296875), (212, '/content/drive/MyDrive/coco_val2017/val2017/000000294162.jpg', 0.645263671875), (24, '/content/drive/MyDrive/coco_val2017/val2017/000000570782.jpg', 0.6470947265625), (13, '/content/drive/MyDrive/coco_val2017/val2017/000000066635.jpg', 0.651611328125), (105, '/content/drive/MyDrive/coco_val2017/val2017/000000038576.jpg', 0.6588134765625)]\n"
          ]
        },
        {
          "output_type": "execute_result",
          "data": {
            "text/plain": [
              "('/content/drive/MyDrive/coco_val2017/val2017/000000038576.jpg',\n",
              " '/content/drive/MyDrive/coco_val2017/val2017/000000066635.jpg',\n",
              " '/content/drive/MyDrive/coco_val2017/val2017/000000570782.jpg')"
            ]
          },
          "metadata": {},
          "execution_count": 13
        }
      ]
    },
    {
      "cell_type": "code",
      "source": [
        "!pip install open_clip_torch"
      ],
      "metadata": {
        "colab": {
          "base_uri": "https://localhost:8080/"
        },
        "id": "xTAIVgfFxX03",
        "outputId": "80f21d0a-08e3-4e52-b1e7-fb601b4ba279"
      },
      "execution_count": 14,
      "outputs": [
        {
          "output_type": "stream",
          "name": "stdout",
          "text": [
            "Requirement already satisfied: open_clip_torch in /usr/local/lib/python3.10/dist-packages (2.23.0)\n",
            "Requirement already satisfied: torch>=1.9.0 in /usr/local/lib/python3.10/dist-packages (from open_clip_torch) (2.1.0+cu118)\n",
            "Requirement already satisfied: torchvision in /usr/local/lib/python3.10/dist-packages (from open_clip_torch) (0.16.0+cu118)\n",
            "Requirement already satisfied: regex in /usr/local/lib/python3.10/dist-packages (from open_clip_torch) (2023.6.3)\n",
            "Requirement already satisfied: ftfy in /usr/local/lib/python3.10/dist-packages (from open_clip_torch) (6.1.3)\n",
            "Requirement already satisfied: tqdm in /usr/local/lib/python3.10/dist-packages (from open_clip_torch) (4.66.1)\n",
            "Requirement already satisfied: huggingface-hub in /usr/local/lib/python3.10/dist-packages (from open_clip_torch) (0.19.4)\n",
            "Requirement already satisfied: sentencepiece in /usr/local/lib/python3.10/dist-packages (from open_clip_torch) (0.1.99)\n",
            "Requirement already satisfied: protobuf in /usr/local/lib/python3.10/dist-packages (from open_clip_torch) (3.20.3)\n",
            "Requirement already satisfied: timm in /usr/local/lib/python3.10/dist-packages (from open_clip_torch) (0.9.12)\n",
            "Requirement already satisfied: filelock in /usr/local/lib/python3.10/dist-packages (from torch>=1.9.0->open_clip_torch) (3.13.1)\n",
            "Requirement already satisfied: typing-extensions in /usr/local/lib/python3.10/dist-packages (from torch>=1.9.0->open_clip_torch) (4.8.0)\n",
            "Requirement already satisfied: sympy in /usr/local/lib/python3.10/dist-packages (from torch>=1.9.0->open_clip_torch) (1.12)\n",
            "Requirement already satisfied: networkx in /usr/local/lib/python3.10/dist-packages (from torch>=1.9.0->open_clip_torch) (3.2.1)\n",
            "Requirement already satisfied: jinja2 in /usr/local/lib/python3.10/dist-packages (from torch>=1.9.0->open_clip_torch) (3.1.2)\n",
            "Requirement already satisfied: fsspec in /usr/local/lib/python3.10/dist-packages (from torch>=1.9.0->open_clip_torch) (2023.6.0)\n",
            "Requirement already satisfied: triton==2.1.0 in /usr/local/lib/python3.10/dist-packages (from torch>=1.9.0->open_clip_torch) (2.1.0)\n",
            "Requirement already satisfied: wcwidth<0.3.0,>=0.2.12 in /usr/local/lib/python3.10/dist-packages (from ftfy->open_clip_torch) (0.2.12)\n",
            "Requirement already satisfied: requests in /usr/local/lib/python3.10/dist-packages (from huggingface-hub->open_clip_torch) (2.31.0)\n",
            "Requirement already satisfied: pyyaml>=5.1 in /usr/local/lib/python3.10/dist-packages (from huggingface-hub->open_clip_torch) (6.0.1)\n",
            "Requirement already satisfied: packaging>=20.9 in /usr/local/lib/python3.10/dist-packages (from huggingface-hub->open_clip_torch) (23.2)\n",
            "Requirement already satisfied: safetensors in /usr/local/lib/python3.10/dist-packages (from timm->open_clip_torch) (0.4.1)\n",
            "Requirement already satisfied: numpy in /usr/local/lib/python3.10/dist-packages (from torchvision->open_clip_torch) (1.23.5)\n",
            "Requirement already satisfied: pillow!=8.3.*,>=5.3.0 in /usr/local/lib/python3.10/dist-packages (from torchvision->open_clip_torch) (9.4.0)\n",
            "Requirement already satisfied: MarkupSafe>=2.0 in /usr/local/lib/python3.10/dist-packages (from jinja2->torch>=1.9.0->open_clip_torch) (2.1.3)\n",
            "Requirement already satisfied: charset-normalizer<4,>=2 in /usr/local/lib/python3.10/dist-packages (from requests->huggingface-hub->open_clip_torch) (3.3.2)\n",
            "Requirement already satisfied: idna<4,>=2.5 in /usr/local/lib/python3.10/dist-packages (from requests->huggingface-hub->open_clip_torch) (3.6)\n",
            "Requirement already satisfied: urllib3<3,>=1.21.1 in /usr/local/lib/python3.10/dist-packages (from requests->huggingface-hub->open_clip_torch) (2.0.7)\n",
            "Requirement already satisfied: certifi>=2017.4.17 in /usr/local/lib/python3.10/dist-packages (from requests->huggingface-hub->open_clip_torch) (2023.11.17)\n",
            "Requirement already satisfied: mpmath>=0.19 in /usr/local/lib/python3.10/dist-packages (from sympy->torch>=1.9.0->open_clip_torch) (1.3.0)\n"
          ]
        }
      ]
    },
    {
      "cell_type": "code",
      "source": [
        "import numpy as np\n",
        "from PIL import Image\n",
        "import torch\n",
        "from torch.utils.data import DataLoader\n",
        "from torchvision import datasets, transforms\n",
        "import open_clip\n",
        "\n",
        "def getModel(modelName, pretrainedName):\n",
        "  model, _, preprocess = open_clip.create_model_and_transforms(modelName, pretrained=pretrainedName)\n",
        "  tokenizer = open_clip.get_tokenizer(modelName)\n",
        "  return model, tokenizer, preprocess\n",
        "\n",
        "def getTextEmbeddings(prompts, classes, model, tokenizer, device):\n",
        "  textEmbeddings = None\n",
        "  model_outputs = []\n",
        "  with torch.no_grad():\n",
        "    for promptType in prompts:\n",
        "      promptList = []\n",
        "      for classType in classes:\n",
        "        promptEngineered = promptType + classType\n",
        "        promptList.append(promptEngineered)\n",
        "      tokenizePrompt = tokenizer(promptList).to(device)\n",
        "      textEmbeddings = model.encode_text(tokenizePrompt)\n",
        "      textEmbeddings = textEmbeddings / torch.linalg.vector_norm(textEmbeddings, dim = 1, keepdim = True)\n",
        "      model_outputs.append(textEmbeddings)\n",
        "  return model_outputs\n",
        "\n",
        "def zeroShotClassification(images, model, allTextEmbeddings, device):\n",
        "  imageEmbedding = None\n",
        "  with torch.no_grad():\n",
        "      imageEmbedding = model.encode_image(images.to(device)).to(device)\n",
        "      imageEmbedding = imageEmbedding / torch.linalg.vector_norm(imageEmbedding, dim = 1, keepdim = True)\n",
        "  print(\"image embedded\")\n",
        "  model_outputs = []\n",
        "  with torch.no_grad():\n",
        "    for textEmbeddings in allTextEmbeddings:\n",
        "      model_outputs.append(imageEmbedding.mm(textEmbeddings.T))\n",
        "\n",
        "  return torch.stack(model_outputs)\n",
        "\n",
        "def getLabel(output):\n",
        "  imageCount = torch.zeros((output.shape[1], output.shape[2]))\n",
        "  for prompt in output:\n",
        "    rowIndex = 0\n",
        "    for imageRow in prompt:\n",
        "      softmaxOutput = torch.softmax(imageRow, dim = -1)\n",
        "      index = torch.argmax(softmaxOutput)\n",
        "      imageCount[rowIndex][index] += 1\n",
        "      rowIndex += 1\n",
        "  ans = []\n",
        "  for image in imageCount:\n",
        "    index = torch.argmax(image)\n",
        "    ans.append(index)\n",
        "  return torch.tensor(ans).reshape(-1)\n",
        "\n",
        "def zero_shot(imageName, prompts, classes):\n",
        "  prompts = prompts.split(\"\\n\")\n",
        "  classes = classes.split(\"\\n\")\n",
        "  model, tokenizer, preprocess = getModel('ViT-B-32', 'laion2b_s34b_b79k')\n",
        "  device = torch.device('cuda') if torch.cuda.is_available() else torch.device('cpu')\n",
        "  model.to(device).eval()\n",
        "  embeddings = getTextEmbeddings(prompts, classes, model, tokenizer, device)\n",
        "  data = preprocess(Image.open(imageName)).unsqueeze(0)\n",
        "  data.to(device)\n",
        "  print(\"Reached\")\n",
        "  ans = zeroShotClassification(data, model, embeddings, device)\n",
        "  print(\"Reached2\")\n",
        "  output_labels = getLabel(ans).to(device)\n",
        "  return imageName, classes[output_labels[0]]"
      ],
      "metadata": {
        "id": "6jpY_hKPxEM_"
      },
      "execution_count": 21,
      "outputs": []
    },
    {
      "cell_type": "code",
      "source": [
        "import numpy as np\n",
        "import gradio as gr\n",
        "\n",
        "with gr.Blocks() as demo:\n",
        "    gr.Markdown(\"CLIP Semantic Segmentation\")\n",
        "    with gr.Tab(\"Text to Text Search\"):\n",
        "        with gr.Row():\n",
        "          text_input = gr.Textbox(label=\"input text\")\n",
        "          text_checkbox = gr.CheckboxGroup([\"Cosine Similarity\", \"Eucledian Distance\"], label=\"Similarity Option\")\n",
        "          image_text_output = [gr.Image(label=\"result 1\"), gr.Image(label=\"result 2\"), gr.Image(label=\"result 3\")]\n",
        "        text_button = gr.Button(\"Submit\")\n",
        "    with gr.Tab(\"Image to Image Search\"):\n",
        "        with gr.Row():\n",
        "            image_input = gr.Textbox(label = \"input image file location\")\n",
        "            image_checkbox = gr.CheckboxGroup([\"Cosine Similarity\", \"Eucledian Distance\"], label=\"Similarity Option\")\n",
        "            image_output = [gr.Image(label = \"input image\"), gr.Image(label=\"result 1\"), gr.Image(label=\"result 2\"), gr.Image(label=\"result 3\")]\n",
        "        image_button = gr.Button(\"Submit\")\n",
        "    with gr.Tab(\"Zero Shot Classification\"):\n",
        "        with gr.Row():\n",
        "            image_zero_input = gr.Textbox(label = \"input image filename\")\n",
        "            prompt_input = gr.Textbox(label=\"prompts\", lines=20)\n",
        "            classes_input = gr.Textbox(label=\"classes\", lines=20)\n",
        "            text_output = [gr.Image(label = \"input image\"), gr.Textbox(label=\"output class\")]\n",
        "        zero_button = gr.Button(\"Submit\")\n",
        "\n",
        "    text_button.click(text_to_image, inputs=[text_input, text_checkbox], outputs=image_text_output)\n",
        "    image_button.click(image_to_image, inputs=[image_input, image_checkbox], outputs=image_output)\n",
        "    zero_button.click(zero_shot, inputs=[image_zero_input, prompt_input, classes_input], outputs=text_output)\n",
        "\n",
        "demo.launch()"
      ],
      "metadata": {
        "execution": {
          "iopub.status.busy": "2023-12-04T23:50:50.621043Z",
          "iopub.execute_input": "2023-12-04T23:50:50.621474Z",
          "iopub.status.idle": "2023-12-04T23:51:02.681660Z",
          "shell.execute_reply.started": "2023-12-04T23:50:50.621440Z",
          "shell.execute_reply": "2023-12-04T23:51:02.680725Z"
        },
        "trusted": true,
        "colab": {
          "base_uri": "https://localhost:8080/",
          "height": 626
        },
        "id": "qu8aZKzyQjHs",
        "outputId": "f8610880-248f-4970-eaa4-aa566d26db67"
      },
      "execution_count": 23,
      "outputs": [
        {
          "output_type": "stream",
          "name": "stdout",
          "text": [
            "Setting queue=True in a Colab notebook requires sharing enabled. Setting `share=True` (you can turn this off by setting `share=False` in `launch()` explicitly).\n",
            "\n",
            "Colab notebook detected. To show errors in colab notebook, set debug=True in launch()\n",
            "Running on public URL: https://3abd7aba51a77cb10c.gradio.live\n",
            "\n",
            "This share link expires in 72 hours. For free permanent hosting and GPU upgrades, run `gradio deploy` from Terminal to deploy to Spaces (https://huggingface.co/spaces)\n"
          ]
        },
        {
          "output_type": "display_data",
          "data": {
            "text/plain": [
              "<IPython.core.display.HTML object>"
            ],
            "text/html": [
              "<div><iframe src=\"https://3abd7aba51a77cb10c.gradio.live\" width=\"100%\" height=\"500\" allow=\"autoplay; camera; microphone; clipboard-read; clipboard-write;\" frameborder=\"0\" allowfullscreen></iframe></div>"
            ]
          },
          "metadata": {}
        },
        {
          "output_type": "execute_result",
          "data": {
            "text/plain": []
          },
          "metadata": {},
          "execution_count": 23
        }
      ]
    }
  ]
}