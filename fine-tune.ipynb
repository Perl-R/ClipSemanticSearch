{
 "cells": [
  {
   "cell_type": "markdown",
   "metadata": {},
   "source": [
    "### Fine-tuning CLIP"
   ]
  },
  {
   "cell_type": "markdown",
   "metadata": {},
   "source": [
    "#### Imports"
   ]
  },
  {
   "cell_type": "markdown",
   "metadata": {},
   "source": []
  },
  {
   "cell_type": "code",
   "execution_count": 106,
   "metadata": {},
   "outputs": [],
   "source": [
    "from PIL import Image\n",
    "from tqdm import tqdm\n",
    "\n",
    "import torch\n",
    "import torch.nn as nn\n",
    "from torch.utils.data import DataLoader\n",
    "from torchvision import transforms, datasets\n",
    "\n",
    "import clip\n",
    "from transformers import CLIPProcessor, CLIPModel, BertTokenizer"
   ]
  },
  {
   "cell_type": "markdown",
   "metadata": {},
   "source": [
    "#### Configs"
   ]
  },
  {
   "cell_type": "code",
   "execution_count": 107,
   "metadata": {},
   "outputs": [],
   "source": [
    "class CFG:\n",
    "    device = torch.device(\"cuda\" if torch.cuda.is_available() else \"cpu\")\n",
    "    batch_size = 100\n",
    "    num_epochs = 1\n",
    "    learning_rate = 5e-5\n",
    "    weight_decay = 0.0\n",
    "    base_model = \"openai/clip-vit-base-patch32\"\n",
    "    loss_func = nn.CrossEntropyLoss()"
   ]
  },
  {
   "cell_type": "markdown",
   "metadata": {},
   "source": [
    "#### Load and Prep Data"
   ]
  },
  {
   "cell_type": "code",
   "execution_count": 108,
   "metadata": {},
   "outputs": [
    {
     "name": "stdout",
     "output_type": "stream",
     "text": [
      "Files already downloaded and verified\n"
     ]
    }
   ],
   "source": [
    "transform = transforms.Compose(\n",
    "    [transforms.ToTensor(),\n",
    "     transforms.Normalize((0.5, 0.5, 0.5), (0.5, 0.5, 0.5)),\n",
    "     transforms.Lambda(lambda x: x / 2 + 0.5)]\n",
    ")\n",
    "\n",
    "dataset = datasets.CIFAR10(root='./data', train=True, download=True, transform=transform)\n",
    "dataloader = DataLoader(dataset, batch_size = CFG.batch_size, shuffle=True)\n",
    "class_names = dataset.classes"
   ]
  },
  {
   "cell_type": "markdown",
   "metadata": {},
   "source": [
    "#### Initialize CLIP model"
   ]
  },
  {
   "cell_type": "code",
   "execution_count": 109,
   "metadata": {},
   "outputs": [],
   "source": [
    "model = CLIPModel.from_pretrained(CFG.base_model)\n",
    "processor = CLIPProcessor.from_pretrained(CFG.base_model)"
   ]
  },
  {
   "cell_type": "markdown",
   "metadata": {},
   "source": [
    "#### Train"
   ]
  },
  {
   "cell_type": "code",
   "execution_count": null,
   "metadata": {},
   "outputs": [],
   "source": [
    "\n",
    "model.to(CFG.device)\n",
    "model.train()\n",
    "optimizer = torch.optim.Adam(model.parameters(), lr = CFG.learning_rate,\n",
    "                             weight_decay=CFG.weight_decay)\n",
    "rokenizer = BertTokenizer.from_pretrained('bert-base-uncased')\n",
    "\n",
    "iter_losses = []\n",
    "for epoch in range(1, CFG.num_epochs+1):\n",
    "    \n",
    "    pbar = tqdm(dataloader, total = len(dataloader))\n",
    "    for idx, batch in enumerate(pbar):\n",
    "        optimizer.zero_grad()\n",
    "        \n",
    "        images, texts = batch\n",
    "        texts = [class_names[i] for i in texts.tolist()]\n",
    "        \n",
    "        inputs = processor(text=texts, images=images, return_tensors='pt', padding=True)\n",
    "        inputs.to(CFG.device)\n",
    "        \n",
    "        outputs = model(**inputs, return_loss=True)\n",
    "        loss = outputs.loss\n",
    "\n",
    "        loss.backward()\n",
    "        optimizer.step()\n",
    "        \n",
    "        iter_losses.append(loss.item())"
   ]
  }
 ],
 "metadata": {
  "kernelspec": {
   "display_name": "Python 3",
   "language": "python",
   "name": "python3"
  },
  "language_info": {
   "codemirror_mode": {
    "name": "ipython",
    "version": 3
   },
   "file_extension": ".py",
   "mimetype": "text/x-python",
   "name": "python",
   "nbconvert_exporter": "python",
   "pygments_lexer": "ipython3",
   "version": "3.9.2"
  }
 },
 "nbformat": 4,
 "nbformat_minor": 2
}
